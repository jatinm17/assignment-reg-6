{
 "cells": [
  {
   "cell_type": "code",
   "execution_count": 1,
   "id": "cc262821-9b8b-45f6-9868-d90ce230cce0",
   "metadata": {},
   "outputs": [
    {
     "name": "stdout",
     "output_type": "stream",
     "text": [
      "Idea and Planning\n",
      "Architecture and Technology Selection\n",
      "Frontend Development\n",
      "Backend Development\n",
      "Database Design and Development\n",
      "Testing\n",
      "Deployment\n",
      "Continuous Integration and Deployment (CI/CD)\n",
      "Monitoring and Scaling\n",
      "Security\n",
      "Maintenance and Updates\n"
     ]
    }
   ],
   "source": [
    "# ques 1\n",
    "print('''Idea and Planning\n",
    "Architecture and Technology Selection\n",
    "Frontend Development\n",
    "Backend Development\n",
    "Database Design and Development\n",
    "Testing\n",
    "Deployment\n",
    "Continuous Integration and Deployment (CI/CD)\n",
    "Monitoring and Scaling\n",
    "Security\n",
    "Maintenance and Updates''')"
   ]
  },
  {
   "cell_type": "code",
   "execution_count": 2,
   "id": "09beb54d-b6b6-4cb8-aca6-fa2148e073d4",
   "metadata": {},
   "outputs": [
    {
     "name": "stdout",
     "output_type": "stream",
     "text": [
      "Traditional Web Hosting:\n",
      "Website is hosted on a single physical or dedicated server, with fixed resources and limited scalability. Offers more control but less flexibility during traffic spikes.\n",
      "\n",
      "Cloud Hosting:\n",
      "Website is hosted on a virtualized environment using a network of interconnected servers. Provides scalable resources, high redundancy, and flexibility for handling varying traffic levels.\n",
      "\n"
     ]
    }
   ],
   "source": [
    "# ques 2\n",
    "print('''Traditional Web Hosting:\n",
    "Website is hosted on a single physical or dedicated server, with fixed resources and limited scalability. Offers more control but less flexibility during traffic spikes.\n",
    "\n",
    "Cloud Hosting:\n",
    "Website is hosted on a virtualized environment using a network of interconnected servers. Provides scalable resources, high redundancy, and flexibility for handling varying traffic levels.\n",
    "''')"
   ]
  },
  {
   "cell_type": "code",
   "execution_count": 3,
   "id": "970cd146-52d8-48fc-bc14-bff99eb6bba2",
   "metadata": {},
   "outputs": [
    {
     "name": "stdout",
     "output_type": "stream",
     "text": [
      " here are the key factors to consider when choosing a cloud provider for your application deployment:\n",
      "\n",
      "Performance and Availability\n",
      "Scalability\n",
      "Services and Features\n",
      "Security and Compliance\n",
      "Cost and Pricing Model\n",
      "Support and Documentation\n",
      "Vendor Lock-In\n",
      "Community and Ecosystem\n",
      "Ease of Use and Management\n",
      "Performance Testing and Benchmarking\n",
      "Long-Term Viability\n",
      "Case Studies and References\n",
      "\n",
      "\n",
      "\n",
      "\n",
      "\n"
     ]
    }
   ],
   "source": [
    "# ques 3\n",
    "print(''' here are the key factors to consider when choosing a cloud provider for your application deployment:\n",
    "\n",
    "Performance and Availability\n",
    "Scalability\n",
    "Services and Features\n",
    "Security and Compliance\n",
    "Cost and Pricing Model\n",
    "Support and Documentation\n",
    "Vendor Lock-In\n",
    "Community and Ecosystem\n",
    "Ease of Use and Management\n",
    "Performance Testing and Benchmarking\n",
    "Long-Term Viability\n",
    "Case Studies and References\n",
    "\n",
    "\n",
    "\n",
    "\n",
    "''')"
   ]
  },
  {
   "cell_type": "code",
   "execution_count": 4,
   "id": "b04782fc-fac8-4ccc-80b3-23f8ca9e1875",
   "metadata": {},
   "outputs": [
    {
     "name": "stdout",
     "output_type": "stream",
     "text": [
      "Design a responsive user interface by starting with a mobile-first approach, using fluid grids, flexible images, media queries, and the viewport meta tag. Build it with flexible layouts, relative font sizing, touch-friendly design, and content prioritization. Test thoroughly on various devices.\n",
      "\n",
      "Best Practices:\n",
      "\n",
      "Keep it simple.\n",
      "Maintain consistency.\n",
      "Prioritize performance.\n",
      "Design with users in mind.\n",
      "Ensure accessibility.\n",
      "Adapt content strategy.\n",
      "Embrace progressive enhancement.\n",
      "Regularly update your design.\n"
     ]
    }
   ],
   "source": [
    "# QUES 4\n",
    "\n",
    "print('''Design a responsive user interface by starting with a mobile-first approach, using fluid grids, flexible images, media queries, and the viewport meta tag. Build it with flexible layouts, relative font sizing, touch-friendly design, and content prioritization. Test thoroughly on various devices.\n",
    "\n",
    "Best Practices:\n",
    "\n",
    "Keep it simple.\n",
    "Maintain consistency.\n",
    "Prioritize performance.\n",
    "Design with users in mind.\n",
    "Ensure accessibility.\n",
    "Adapt content strategy.\n",
    "Embrace progressive enhancement.\n",
    "Regularly update your design.''')"
   ]
  },
  {
   "cell_type": "code",
   "execution_count": null,
   "id": "08e35d24-479e-4cdb-9d82-d98e5fafd818",
   "metadata": {},
   "outputs": [],
   "source": []
  }
 ],
 "metadata": {
  "kernelspec": {
   "display_name": "Python 3 (ipykernel)",
   "language": "python",
   "name": "python3"
  },
  "language_info": {
   "codemirror_mode": {
    "name": "ipython",
    "version": 3
   },
   "file_extension": ".py",
   "mimetype": "text/x-python",
   "name": "python",
   "nbconvert_exporter": "python",
   "pygments_lexer": "ipython3",
   "version": "3.10.8"
  }
 },
 "nbformat": 4,
 "nbformat_minor": 5
}
